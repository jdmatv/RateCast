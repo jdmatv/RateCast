{
 "cells": [
  {
   "cell_type": "code",
   "execution_count": 1,
   "metadata": {},
   "outputs": [],
   "source": [
    "from libs.utils import *\n",
    "\n",
    "qs = get_open_questions_25q2()"
   ]
  },
  {
   "cell_type": "code",
   "execution_count": 5,
   "metadata": {},
   "outputs": [
    {
     "data": {
      "text/plain": [
       "[{'question': 'Will Senator John Fetterman cease caucusing with the Democrats before July 1, 2025?',\n",
       "  'description': '[Fetterman says he won’t resign, gets support from McCormick as article blowback continues](https://www.pennlive.com/news/2025/05/fetterman-says-he-wont-resign-gets-support-from-mccormick-as-article-blowback-continues.html) | [An isolated, angry Fetterman is yet another challenge for Democrats](https://www.washingtonpost.com/politics/2025/05/16/john-fetterman-senate-relationships/)',\n",
       "  'resolution_criteria': 'This question resolves as **Yes** if, before July 1, 2025, John Fetterman ceases caucusing with the [Senate Democrats](https://www.democrats.senate.gov/about-senate-dems/our-caucus) for any reason, whether because he switches parties, resigns, or any other reason.',\n",
       "  'fine_print': ''}]"
      ]
     },
     "execution_count": 5,
     "metadata": {},
     "output_type": "execute_result"
    }
   ],
   "source": [
    "qs"
   ]
  },
  {
   "cell_type": "code",
   "execution_count": 2,
   "metadata": {},
   "outputs": [
    {
     "name": "stdout",
     "output_type": "stream",
     "text": [
      "Loaded prompts from: preprocess.yaml\n"
     ]
    }
   ],
   "source": [
    "from libs.preprocess import get_all_wiki_queries, search_wiki_rank"
   ]
  },
  {
   "cell_type": "code",
   "execution_count": 3,
   "metadata": {},
   "outputs": [],
   "source": [
    "queries, drivers = get_all_wiki_queries(qs[0])"
   ]
  },
  {
   "cell_type": "code",
   "execution_count": 7,
   "metadata": {},
   "outputs": [],
   "source": [
    "relevant_pages = search_wiki_rank(queries, drivers, qs[0])"
   ]
  },
  {
   "cell_type": "code",
   "execution_count": 8,
   "metadata": {},
   "outputs": [
    {
     "data": {
      "text/plain": [
       "['List of United States senators who switched parties']"
      ]
     },
     "execution_count": 8,
     "metadata": {},
     "output_type": "execute_result"
    }
   ],
   "source": [
    "relevant_pages"
   ]
  },
  {
   "cell_type": "code",
   "execution_count": 9,
   "metadata": {},
   "outputs": [
    {
     "data": {
      "text/plain": [
       "['Precipitation levels in the River Avon catchment area during spring and early summer 2025',\n",
       " 'Temperature trends and evaporation rates in Somerset leading up to July 2025',\n",
       " 'Water abstraction rates upstream of Bath Destructor Bridge for agriculture and municipal use',\n",
       " 'Land use and catchment soil moisture conditions affecting runoff into the River Avon',\n",
       " 'Reservoir management and flood control interventions impacting river flow',\n",
       " 'Occurrence of extreme weather events (e.g., droughts or heavy storms) prior to July 1, 2025',\n",
       " 'Regional climate anomalies influencing rainfall distribution in south-west England']"
      ]
     },
     "execution_count": 9,
     "metadata": {},
     "output_type": "execute_result"
    }
   ],
   "source": [
    "eval(a).get('drivers_list')"
   ]
  },
  {
   "cell_type": "code",
   "execution_count": 1,
   "metadata": {},
   "outputs": [
    {
     "name": "stdout",
     "output_type": "stream",
     "text": [
      "7272727.27\n",
      "baa21b33b8ae47522ac684c709889e48afd86468\n"
     ]
    }
   ],
   "source": [
    "import os\n",
    "print(os.getenv('OPENAI_04MINI_BALANCE'))\n",
    "print(os.getenv('METACULUS_TOKEN'))"
   ]
  },
  {
   "cell_type": "code",
   "execution_count": 2,
   "metadata": {},
   "outputs": [
    {
     "name": "stderr",
     "output_type": "stream",
     "text": [
      "2025-05-29 12:48:28.059 WARNING streamlit.runtime.caching.cache_data_api: No runtime found, using MemoryCacheStorageManager\n"
     ]
    }
   ],
   "source": [
    "import forecasting_tools"
   ]
  },
  {
   "cell_type": "code",
   "execution_count": 10,
   "metadata": {},
   "outputs": [
    {
     "data": {
      "text/plain": [
       "{'summary': 'The question seeks to determine whether the water level of the River Avon at Bath Destructor Bridge in Somerset, England, will be low, normal, or high on July 1, 2025. The background indicates recent forecasts of below normal or low river levels across most of the UK in May, except for the south-west of England and southern Wales, suggesting regional variability in water availability. The resolution depends on assessing hydrological conditions at a specific time and location, considering regional climatic and environmental factors leading up to the target date.',\n",
       " 'factor_consideration': \"To assess the water level state at the River Avon on July 1, 2025, multiple interconnected factors must be considered. First, precipitation patterns in the months preceding July, particularly in the south-west of England, will directly influence river flow and recharge rates. Seasonal rainfall variability, including any prolonged drought or wet spells, will affect river volume. Second, temperature trends and evaporation rates in the area will influence water loss and soil moisture, thereby impacting runoff into the river. Third, upstream water usage and abstraction for agriculture, industry, or municipal supply could reduce river levels. Fourth, land use and catchment characteristics, such as soil permeability and vegetation cover, will determine how rainfall translates into river flow. Additionally, potential interventions like reservoir releases or flood management practices could alter water levels. Finally, broader climatic trends and anomalies, such as unusual heatwaves or storms, may serve as catalysts or inhibitors for deviations from normal levels. The interplay of these hydrological, climatic, and human factors will collectively drive the river's state on the specified date.\",\n",
       " 'drivers_list': ['Precipitation levels in the River Avon catchment area during spring and early summer 2025',\n",
       "  'Temperature trends and evaporation rates in Somerset leading up to July 2025',\n",
       "  'Water abstraction rates upstream of Bath Destructor Bridge for agriculture and municipal use',\n",
       "  'Land use and catchment soil moisture conditions affecting runoff into the River Avon',\n",
       "  'Reservoir management and flood control interventions impacting river flow',\n",
       "  'Occurrence of extreme weather events (e.g., droughts or heavy storms) prior to July 1, 2025',\n",
       "  'Regional climate anomalies influencing rainfall distribution in south-west England']}"
      ]
     },
     "execution_count": 10,
     "metadata": {},
     "output_type": "execute_result"
    }
   ],
   "source": [
    "eval(a)"
   ]
  },
  {
   "cell_type": "code",
   "execution_count": 15,
   "metadata": {},
   "outputs": [
    {
     "data": {
      "text/plain": [
       "['Precipitation levels in the River Avon catchment area during spring and early summer 2025',\n",
       " 'Temperature trends and evaporation rates in Somerset leading up to July 2025',\n",
       " 'Water abstraction rates upstream of Bath Destructor Bridge for agriculture and municipal use',\n",
       " 'Land use and catchment soil moisture conditions affecting runoff into the River Avon',\n",
       " 'Reservoir management and flood control interventions impacting river flow',\n",
       " 'Occurrence of extreme weather events (e.g., droughts or heavy storms) prior to July 1, 2025',\n",
       " 'Regional climate anomalies influencing rainfall distribution in south-west England']"
      ]
     },
     "execution_count": 15,
     "metadata": {},
     "output_type": "execute_result"
    }
   ],
   "source": [
    "from pydantic import BaseModel\n",
    "\n",
    "class DecomposedDriversResponse(BaseModel):\n",
    "    summary: str\n",
    "    factor_consideration: str\n",
    "    drivers_list: list[str]\n",
    "\n",
    "\n",
    "DecomposedDriversResponse.model_validate_json(a).drivers_list\n"
   ]
  }
 ],
 "metadata": {
  "kernelspec": {
   "display_name": ".venv",
   "language": "python",
   "name": "python3"
  },
  "language_info": {
   "codemirror_mode": {
    "name": "ipython",
    "version": 3
   },
   "file_extension": ".py",
   "mimetype": "text/x-python",
   "name": "python",
   "nbconvert_exporter": "python",
   "pygments_lexer": "ipython3",
   "version": "3.13.3"
  }
 },
 "nbformat": 4,
 "nbformat_minor": 2
}
