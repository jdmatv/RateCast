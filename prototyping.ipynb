{
 "cells": [
  {
   "cell_type": "code",
   "execution_count": 1,
   "metadata": {},
   "outputs": [],
   "source": [
    "from libs.utils import *\n",
    "\n",
    "qs = get_open_questions_25q2()"
   ]
  },
  {
   "cell_type": "code",
   "execution_count": 2,
   "metadata": {},
   "outputs": [
    {
     "name": "stdout",
     "output_type": "stream",
     "text": [
      "Loaded prompts from: preprocess.yaml\n",
      "Generating queries for question: For Q2 2025, how many banks will be listed on the FDIC's Failed Bank List?\n",
      "Using model: ollama/qwen3:1.7b for completion.\n",
      "Decomposed drivers: ['Number of banks closing due to financial distress from economic pressures (e.g., Trump tariffs)', 'Impact of regulatory changes on lending standards and bailouts', 'Market trends such as loan defaults or liquidity crises', \"FDIC's process for identifying and closing banks with specific date criteria\"]\n",
      "Using model: ollama/qwen3:1.7b for completion.\n"
     ]
    },
    {
     "ename": "TypeError",
     "evalue": "Cannot instantiate typing.Union",
     "output_type": "error",
     "traceback": [
      "\u001b[31m---------------------------------------------------------------------------\u001b[39m",
      "\u001b[31mTypeError\u001b[39m                                 Traceback (most recent call last)",
      "\u001b[36mCell\u001b[39m\u001b[36m \u001b[39m\u001b[32mIn[2]\u001b[39m\u001b[32m, line 3\u001b[39m\n\u001b[32m      1\u001b[39m \u001b[38;5;28;01mfrom\u001b[39;00m\u001b[38;5;250m \u001b[39m\u001b[34;01mlibs\u001b[39;00m\u001b[34;01m.\u001b[39;00m\u001b[34;01mpreprocess\u001b[39;00m\u001b[38;5;250m \u001b[39m\u001b[38;5;28;01mimport\u001b[39;00m get_all_wiki_queries\n\u001b[32m----> \u001b[39m\u001b[32m3\u001b[39m queries, drivers = \u001b[43mget_all_wiki_queries\u001b[49m\u001b[43m(\u001b[49m\u001b[43mqs\u001b[49m\u001b[43m[\u001b[49m\u001b[32;43m0\u001b[39;49m\u001b[43m]\u001b[49m\u001b[43m)\u001b[49m\n",
      "\u001b[36mFile \u001b[39m\u001b[32m~/Documents/JM_RAND/PRGS/Dissertation/metaculus/code/libs/preprocess.py:108\u001b[39m, in \u001b[36mget_all_wiki_queries\u001b[39m\u001b[34m(question_metadata)\u001b[39m\n\u001b[32m    106\u001b[39m drivers = decompose_drivers(question_metadata)\n\u001b[32m    107\u001b[39m \u001b[38;5;28mprint\u001b[39m(\u001b[33m\"\u001b[39m\u001b[33mDecomposed drivers:\u001b[39m\u001b[33m\"\u001b[39m, drivers)\n\u001b[32m--> \u001b[39m\u001b[32m108\u001b[39m queries = \u001b[43mquestion_to_queries\u001b[49m\u001b[43m(\u001b[49m\u001b[43mquestion_metadata\u001b[49m\u001b[43m)\u001b[49m\n\u001b[32m    109\u001b[39m \u001b[38;5;28mprint\u001b[39m(\u001b[33m\"\u001b[39m\u001b[33mGenerated queries:\u001b[39m\u001b[33m\"\u001b[39m, queries)\n\u001b[32m    111\u001b[39m \u001b[38;5;28;01mif\u001b[39;00m \u001b[38;5;129;01mnot\u001b[39;00m drivers:\n",
      "\u001b[36mFile \u001b[39m\u001b[32m~/Documents/JM_RAND/PRGS/Dissertation/metaculus/code/libs/preprocess.py:54\u001b[39m, in \u001b[36mquestion_to_queries\u001b[39m\u001b[34m(question_metadata)\u001b[39m\n\u001b[32m     48\u001b[39m service = CompletionsService()\n\u001b[32m     49\u001b[39m response = service.get_completion(\n\u001b[32m     50\u001b[39m     messages=messages,\n\u001b[32m     51\u001b[39m     model_name=\u001b[33m\"\u001b[39m\u001b[33mqwen3:1.7b\u001b[39m\u001b[33m\"\u001b[39m,\n\u001b[32m     52\u001b[39m )\n\u001b[32m---> \u001b[39m\u001b[32m54\u001b[39m \u001b[43m\u001b[49m\u001b[38;5;28;43;01mclass\u001b[39;49;00m\u001b[38;5;250;43m \u001b[39;49m\u001b[34;43;01mQueriesResponse\u001b[39;49;00m\u001b[43m(\u001b[49m\u001b[43mBaseModel\u001b[49m\u001b[43m)\u001b[49m\u001b[43m:\u001b[49m\n\u001b[32m     55\u001b[39m \u001b[43m    \u001b[49m\u001b[43minformation_need_summary\u001b[49m\u001b[43m:\u001b[49m\u001b[43m \u001b[49m\u001b[38;5;28;43mstr\u001b[39;49m\n\u001b[32m     56\u001b[39m \u001b[43m    \u001b[49m\u001b[43mscratchpad_query_brainstrom\u001b[49m\u001b[43m:\u001b[49m\u001b[43m \u001b[49m\u001b[43mUnion\u001b[49m\u001b[43m(\u001b[49m\u001b[38;5;28;43mstr\u001b[39;49m\u001b[43m,\u001b[49m\u001b[43m \u001b[49m\u001b[38;5;28;43mlist\u001b[39;49m\u001b[43m[\u001b[49m\u001b[38;5;28;43mstr\u001b[39;49m\u001b[43m]\u001b[49m\u001b[43m)\u001b[49m\n",
      "\u001b[36mFile \u001b[39m\u001b[32m~/Documents/JM_RAND/PRGS/Dissertation/metaculus/code/libs/preprocess.py:56\u001b[39m, in \u001b[36mquestion_to_queries.<locals>.QueriesResponse\u001b[39m\u001b[34m()\u001b[39m\n\u001b[32m     54\u001b[39m \u001b[38;5;28;01mclass\u001b[39;00m\u001b[38;5;250m \u001b[39m\u001b[34;01mQueriesResponse\u001b[39;00m(BaseModel):\n\u001b[32m     55\u001b[39m     information_need_summary: \u001b[38;5;28mstr\u001b[39m\n\u001b[32m---> \u001b[39m\u001b[32m56\u001b[39m     scratchpad_query_brainstrom: \u001b[43mUnion\u001b[49m\u001b[43m(\u001b[49m\u001b[38;5;28;43mstr\u001b[39;49m\u001b[43m,\u001b[49m\u001b[43m \u001b[49m\u001b[38;5;28;43mlist\u001b[39;49m\u001b[43m[\u001b[49m\u001b[38;5;28;43mstr\u001b[39;49m\u001b[43m]\u001b[49m\u001b[43m)\u001b[49m\n\u001b[32m     57\u001b[39m     wikipedia_queries: \u001b[38;5;28mlist\u001b[39m[\u001b[38;5;28mstr\u001b[39m]\n",
      "\u001b[36mFile \u001b[39m\u001b[32m/Library/Frameworks/Python.framework/Versions/3.13/lib/python3.13/typing.py:560\u001b[39m, in \u001b[36m_SpecialForm.__call__\u001b[39m\u001b[34m(self, *args, **kwds)\u001b[39m\n\u001b[32m    559\u001b[39m \u001b[38;5;28;01mdef\u001b[39;00m\u001b[38;5;250m \u001b[39m\u001b[34m__call__\u001b[39m(\u001b[38;5;28mself\u001b[39m, *args, **kwds):\n\u001b[32m--> \u001b[39m\u001b[32m560\u001b[39m     \u001b[38;5;28;01mraise\u001b[39;00m \u001b[38;5;167;01mTypeError\u001b[39;00m(\u001b[33mf\u001b[39m\u001b[33m\"\u001b[39m\u001b[33mCannot instantiate \u001b[39m\u001b[38;5;132;01m{\u001b[39;00m\u001b[38;5;28mself\u001b[39m\u001b[38;5;132;01m!r}\u001b[39;00m\u001b[33m\"\u001b[39m)\n",
      "\u001b[31mTypeError\u001b[39m: Cannot instantiate typing.Union"
     ]
    }
   ],
   "source": [
    "from libs.preprocess import get_all_wiki_queries\n",
    "\n",
    "queries, drivers = get_all_wiki_queries(qs[0])"
   ]
  }
 ],
 "metadata": {
  "kernelspec": {
   "display_name": ".venv",
   "language": "python",
   "name": "python3"
  },
  "language_info": {
   "codemirror_mode": {
    "name": "ipython",
    "version": 3
   },
   "file_extension": ".py",
   "mimetype": "text/x-python",
   "name": "python",
   "nbconvert_exporter": "python",
   "pygments_lexer": "ipython3",
   "version": "3.13.3"
  }
 },
 "nbformat": 4,
 "nbformat_minor": 2
}
