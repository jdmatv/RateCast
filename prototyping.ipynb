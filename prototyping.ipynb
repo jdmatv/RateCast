{
 "cells": [
  {
   "cell_type": "code",
   "execution_count": 5,
   "metadata": {},
   "outputs": [],
   "source": [
    "from libs.utils import *\n",
    "\n",
    "qs = get_open_questions_25q2()"
   ]
  },
  {
   "cell_type": "code",
   "execution_count": 6,
   "metadata": {},
   "outputs": [
    {
     "data": {
      "text/plain": [
       "[{'id': 38090,\n",
       "  'title': 'What will be the state of the water level at River Great Ouse at Welney Causeway in East Anglia, England, on July 1, 2025?',\n",
       "  'short_title': '',\n",
       "  'url_title': '',\n",
       "  'slug': 'what-will-be-the-state-of-the-water-level-at-river-great-ouse-at-welney-causeway-in-east-anglia-england-on-july-1-2025',\n",
       "  'author_id': 115975,\n",
       "  'author_username': 'johnnycaffeine',\n",
       "  'coauthors': [],\n",
       "  'created_at': '2025-05-24T05:50:07.117024Z',\n",
       "  'published_at': '2025-05-29T12:00:00Z',\n",
       "  'edited_at': '2025-05-29T12:44:55.790307Z',\n",
       "  'curation_status': 'approved',\n",
       "  'curation_status_updated_at': None,\n",
       "  'comment_count': 0,\n",
       "  'status': 'open',\n",
       "  'resolved': False,\n",
       "  'actual_close_time': None,\n",
       "  'scheduled_close_time': '2025-05-29T14:00:00Z',\n",
       "  'scheduled_resolve_time': '2025-07-01T00:00:00Z',\n",
       "  'open_time': '2025-05-29T12:00:00Z',\n",
       "  'nr_forecasters': 73,\n",
       "  'html_metadata_json': None,\n",
       "  'projects': {'question_series': [{'id': 32721,\n",
       "     'type': 'question_series',\n",
       "     'name': 'Q2 AI Forecasting Benchmark Tournament',\n",
       "     'slug': 'aibq2',\n",
       "     'header_image': 'https://metaculus-web-media.s3.amazonaws.com/aib-q2-banner.webp',\n",
       "     'prize_pool': '30000.00',\n",
       "     'start_date': '2025-04-21T01:38:25Z',\n",
       "     'close_date': '2025-07-11T18:43:55Z',\n",
       "     'forecasting_end_date': None,\n",
       "     'meta_description': '',\n",
       "     'is_ongoing': True,\n",
       "     'user_permission': None,\n",
       "     'created_at': '2025-03-22T19:06:55.820092Z',\n",
       "     'edited_at': '2025-05-20T18:37:21.219322Z',\n",
       "     'score_type': 'spot_peer_tournament',\n",
       "     'default_permission': 'viewer',\n",
       "     'visibility': 'not_in_main_feed',\n",
       "     'is_current_content_translated': False}],\n",
       "   'default_project': {'id': 32721,\n",
       "    'type': 'question_series',\n",
       "    'name': 'Q2 AI Forecasting Benchmark Tournament',\n",
       "    'slug': 'aibq2',\n",
       "    'header_image': 'https://metaculus-web-media.s3.amazonaws.com/aib-q2-banner.webp',\n",
       "    'prize_pool': '30000.00',\n",
       "    'start_date': '2025-04-21T01:38:25Z',\n",
       "    'close_date': '2025-07-11T18:43:55Z',\n",
       "    'forecasting_end_date': None,\n",
       "    'meta_description': '',\n",
       "    'is_ongoing': True,\n",
       "    'user_permission': None,\n",
       "    'created_at': '2025-03-22T19:06:55.820092Z',\n",
       "    'edited_at': '2025-05-20T18:37:21.219322Z',\n",
       "    'score_type': 'spot_peer_tournament',\n",
       "    'default_permission': 'viewer',\n",
       "    'visibility': 'not_in_main_feed',\n",
       "    'is_current_content_translated': False}},\n",
       "  'question': {'id': 37396,\n",
       "   'title': 'What will be the state of the water level at River Great Ouse at Welney Causeway in East Anglia, England, on July 1, 2025?',\n",
       "   'description': 'BBC: [Exceptionally low river levels raise fears over water supplies] \"Almost all of the UK is expected to have below normal or low river levels in May, apart from the south-west of England and southern Wales.\"',\n",
       "   'created_at': '2025-05-24T05:50:07.117024Z',\n",
       "   'open_time': '2025-05-29T12:00:00Z',\n",
       "   'cp_reveal_time': '2025-05-29T14:00:00Z',\n",
       "   'spot_scoring_time': '2025-05-29T14:00:00Z',\n",
       "   'scheduled_resolve_time': '2025-07-01T00:00:00Z',\n",
       "   'actual_resolve_time': None,\n",
       "   'resolution_set_time': None,\n",
       "   'scheduled_close_time': '2025-05-29T14:00:00Z',\n",
       "   'actual_close_time': '2025-05-29T14:00:00Z',\n",
       "   'type': 'multiple_choice',\n",
       "   'options': ['Low', 'Normal', 'High'],\n",
       "   'group_variable': 'State',\n",
       "   'status': 'open',\n",
       "   'possibilities': None,\n",
       "   'resolution': None,\n",
       "   'include_bots_in_aggregates': True,\n",
       "   'question_weight': 1.0,\n",
       "   'resolution_criteria': 'This question resolves as the state of the [River Great Ouse level at Welney Causeway](https://check-for-flooding.service.gov.uk/station/6245) (low, normal or high) for July 1, 2025 at 12:00 PM UTC (most likely timestamped 2025-07-01T12:00:00Z in the CSV file).',\n",
       "   'fine_print': '',\n",
       "   'label': '',\n",
       "   'unit': '',\n",
       "   'open_upper_bound': False,\n",
       "   'open_lower_bound': False,\n",
       "   'inbound_outcome_count': None,\n",
       "   'scaling': {'range_max': None, 'range_min': None, 'zero_point': None},\n",
       "   'group_rank': None,\n",
       "   'post_id': 38090,\n",
       "   'aggregations': {'recency_weighted': {'history': [],\n",
       "     'latest': None,\n",
       "     'score_data': {},\n",
       "     'movement': None},\n",
       "    'unweighted': {'history': [], 'latest': None, 'score_data': {}},\n",
       "    'single_aggregation': {'history': [], 'latest': None, 'score_data': {}},\n",
       "    'metaculus_prediction': {'history': [], 'latest': None, 'score_data': {}}},\n",
       "   'nr_forecasters': 73,\n",
       "   'my_forecasts': {'history': [], 'latest': None, 'score_data': {}}},\n",
       "  'user_permission': 'forecaster',\n",
       "  'vote': {'score': 0, 'user_vote': None},\n",
       "  'forecasts_count': 74,\n",
       "  'subscriptions': [],\n",
       "  'key_factors': [],\n",
       "  'is_current_content_translated': False}]"
      ]
     },
     "execution_count": 6,
     "metadata": {},
     "output_type": "execute_result"
    }
   ],
   "source": [
    "qs"
   ]
  },
  {
   "cell_type": "code",
   "execution_count": 3,
   "metadata": {},
   "outputs": [],
   "source": [
    "metadata = get_question_metadata(qs[0])"
   ]
  },
  {
   "cell_type": "code",
   "execution_count": 4,
   "metadata": {},
   "outputs": [
    {
     "data": {
      "text/plain": [
       "('Will California have 20.0 million or more residents living in drought on June 28, 2025?',\n",
       " \"SF Gate: [California's drought has returned — and it's already bad](https://www.sfgate.com/bayarea/article/california-drought-problem-20271547.php)\",\n",
       " 'This question resolves as **Yes** if Drought Monitor at [this link](https://www.drought.gov/states/california) lists greater than or equal to 20.0 million California residents in areas of drought, when the link is accessed by Metaculus on or after June 28, 2025. If the number is below that, this question resolves as **No**.',\n",
       " \"The question will resolve as soon as the page is accessed by Metaculus Admins on the resolution date. However, if there are issues accessing the page, then resolution will wait up until the end of the tournament's scoring at which point if Metaculus has still not been able to access the resolution source, this question will be **annulled**.\")"
      ]
     },
     "execution_count": 4,
     "metadata": {},
     "output_type": "execute_result"
    }
   ],
   "source": [
    "metadata"
   ]
  }
 ],
 "metadata": {
  "kernelspec": {
   "display_name": ".venv",
   "language": "python",
   "name": "python3"
  },
  "language_info": {
   "codemirror_mode": {
    "name": "ipython",
    "version": 3
   },
   "file_extension": ".py",
   "mimetype": "text/x-python",
   "name": "python",
   "nbconvert_exporter": "python",
   "pygments_lexer": "ipython3",
   "version": "3.13.3"
  }
 },
 "nbformat": 4,
 "nbformat_minor": 2
}
