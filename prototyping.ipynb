{
 "cells": [
  {
   "cell_type": "code",
   "execution_count": 1,
   "metadata": {},
   "outputs": [],
   "source": [
    "from libs.utils import *\n",
    "\n",
    "qs = get_open_questions_25q2()"
   ]
  },
  {
   "cell_type": "code",
   "execution_count": 1,
   "metadata": {},
   "outputs": [],
   "source": [
    "import ollama"
   ]
  },
  {
   "cell_type": "code",
   "execution_count": 18,
   "metadata": {},
   "outputs": [
    {
     "name": "stdout",
     "output_type": "stream",
     "text": [
      "Once upon a time, in a small village nestled in the rolling hills of Tuscany, there was a tiny shop called \"La Luna\" (The Moon). The shop was owned by an elderly woman named Sophia, who was known throughout the village for her extraordinary talent: she could weave the most exquisite and magical fabrics.\n",
      "\n",
      "Sophia's shop was a place where dreams came alive. She would spend hours spinning threads of silver and gold, creating fabrics that shimmered like the moon and glowed with an otherworldly light. People from all over the region would come to visit Sophia, seeking not only beautiful fabrics but also guidance and wisdom.\n",
      "\n",
      "One day, a young girl named Luna wandered into La Luna, searching for a special gift for her mother's birthday. As she browsed the shelves, her eyes landed on a magnificent fabric that seemed to radiate an ethereal glow. It was as if the moon itself had descended upon Sophia's loom and woven its magic into the threads.\n",
      "\n",
      "Sophia noticed Luna's fascination with the fabric and approached her with a warm smile. \"Ah, you've found the Moonlight Fabric,\" she said. \"It's a rare and precious material, imbued with the essence of the night sky.\"\n",
      "\n",
      "Luna was enchanted by the fabric and begged Sophia to teach her how to weave it herself. Sophia agreed, but warned Luna that the fabric came with a price: whoever wove it would be bound to the moon for one night each year, forced to dance under its silvery light.\n",
      "\n",
      "Luna didn't hesitate; she was determined to master the Moonlight Fabric and share its magic with her mother. And so, Sophia began to teach Luna the ancient art of weaving, passing down secrets and techniques that had been passed down through generations of weavers.\n",
      "\n",
      "As Luna learned, she discovered that the fabric was not just a material but a key to unlocking the mysteries of the universe. She wove threads of stardust and moonbeams into her creations, imbuing them with the essence of the night sky.\n",
      "\n",
      "Years went by, and Luna became renowned throughout the land for her exquisite fabrics and her ability to weave magic into every thread. And whenever the full moon rose high in the sky, Luna would don a cloak woven from the Moonlight Fabric and dance under its silvery light, feeling the universe's secrets unfolding before her like a celestial tapestry.\n",
      "\n",
      "The villagers would whisper that on those nights, Sophia's shop was filled with an otherworldly glow, as if the moon itself had descended upon La Luna, weaving its magic into the very fabric of reality. And Luna, now an accomplished weaver and guardian of the Moonlight Fabric, would smile knowingly, for she knew that the secrets of the universe were hidden within every thread, waiting to be unraveled by those with the courage to weave their own magic.\n",
      "\n",
      "And so, the story of La Luna and the Moonlight Fabric became a legend, passed down through generations, reminding all who heard it that even in the most ordinary-seeming places, magic can be found, woven into the very fabric of reality.\n"
     ]
    }
   ],
   "source": [
    "response = ollama.chat( \n",
    "    model='llama3.2',\n",
    "    options={\"temperature\":0},\n",
    "    messages=[\n",
    "        {\n",
    "            'role': 'system',\n",
    "            'content': 'You are a helpful assistant that answers questions.'\n",
    "        },\n",
    "        {\n",
    "            'role': 'user',\n",
    "            'content': 'Tell me a story'\n",
    "        }\n",
    "    ]\n",
    ")\n",
    "\n",
    "print(response['message']['content'])"
   ]
  },
  {
   "cell_type": "code",
   "execution_count": null,
   "metadata": {},
   "outputs": [
    {
     "name": "stdout",
     "output_type": "stream",
     "text": [
      "<think>\n",
      "Okay, the user is asking for the capital of France. Let me think. I know that France is a country in Europe. Its capital is a city that's well-known. Wait, is it Paris? Yeah, I'm pretty sure Paris is the capital. Let me double-check. France's capital is indeed Paris. So the answer should be Paris. I need to present this in JSON format as per the user's request. The key should be \"capital\" and the value \"Paris\". Make sure it's correct and straightforward.\n",
      "</think>\n",
      "\n",
      "{\"capital\": \"Paris\"}\n"
     ]
    }
   ],
   "source": [
    "response = ollama.chat(\n",
    "    model='qwen3:4b',\n",
    "    messages=[\n",
    "        {\n",
    "            'role': 'system',\n",
    "            'content': 'You are a helpful assistant that answers questions. Respond in JSON format'\n",
    "        },\n",
    "        {\n",
    "            'role': 'user',\n",
    "            'content': 'what is the capital of France?'\n",
    "        }\n",
    "    ],\n",
    ")\n",
    "\n",
    "print(response['message']['content'])"
   ]
  }
 ],
 "metadata": {
  "kernelspec": {
   "display_name": ".venv",
   "language": "python",
   "name": "python3"
  },
  "language_info": {
   "codemirror_mode": {
    "name": "ipython",
    "version": 3
   },
   "file_extension": ".py",
   "mimetype": "text/x-python",
   "name": "python",
   "nbconvert_exporter": "python",
   "pygments_lexer": "ipython3",
   "version": "3.13.3"
  }
 },
 "nbformat": 4,
 "nbformat_minor": 2
}
